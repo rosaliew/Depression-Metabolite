{
 "cells": [
  {
   "cell_type": "code",
   "execution_count": null,
   "metadata": {
    "_cell_guid": "b1076dfc-b9ad-4769-8c92-a6c4dae69d19",
    "_uuid": "8f2839f25d086af736a60e9eeb907d3b93b6e0e5",
    "execution": {
     "iopub.execute_input": "2024-10-29T04:22:08.920136Z",
     "iopub.status.busy": "2024-10-29T04:22:08.919490Z",
     "iopub.status.idle": "2024-10-29T04:22:08.926331Z",
     "shell.execute_reply": "2024-10-29T04:22:08.925078Z",
     "shell.execute_reply.started": "2024-10-29T04:22:08.920084Z"
    },
    "trusted": true
   },
   "outputs": [],
   "source": [
    "import numpy as np # linear algebra\n",
    "import pandas as pd # data processing, CSV file I/O (e.g. pd.read_csv)"
   ]
  },
  {
   "cell_type": "code",
   "execution_count": null,
   "metadata": {
    "execution": {
     "iopub.execute_input": "2024-10-29T04:22:08.929399Z",
     "iopub.status.busy": "2024-10-29T04:22:08.928932Z",
     "iopub.status.idle": "2024-10-29T04:22:09.084477Z",
     "shell.execute_reply": "2024-10-29T04:22:09.082941Z",
     "shell.execute_reply.started": "2024-10-29T04:22:08.929344Z"
    },
    "trusted": true
   },
   "outputs": [],
   "source": [
    "df_meta=pd.read_excel(\"/kaggle/input/prepostmenopausedepressionmetabolites/PrePostMenopauseDepressionMetabolites.xlsx\",\"Subject Data\", header=1, index_col=2)\n",
    "df_meta=df_meta.drop(df_meta.columns[0], axis=1)\n",
    "df_meta"
   ]
  },
  {
   "cell_type": "code",
   "execution_count": null,
   "metadata": {
    "execution": {
     "iopub.execute_input": "2024-10-29T04:22:09.087065Z",
     "iopub.status.busy": "2024-10-29T04:22:09.086489Z",
     "iopub.status.idle": "2024-10-29T04:22:09.645983Z",
     "shell.execute_reply": "2024-10-29T04:22:09.644485Z",
     "shell.execute_reply.started": "2024-10-29T04:22:09.087003Z"
    },
    "trusted": true
   },
   "outputs": [],
   "source": [
    "df=pd.read_excel(\"/kaggle/input/prepostmenopausedepressionmetabolites/PrePostMenopauseDepressionMetabolites.xlsx\",\"MS Metabolite Data\", header=1, index_col=1)\n",
    "df=df.drop(df.columns[0], axis=1)\n",
    "#df.replace('----', np.nan, inplace=True)\n",
    "df.replace('----', 0, inplace=True)\n",
    "df"
   ]
  },
  {
   "cell_type": "code",
   "execution_count": null,
   "metadata": {
    "execution": {
     "iopub.execute_input": "2024-10-29T04:22:09.650456Z",
     "iopub.status.busy": "2024-10-29T04:22:09.649899Z",
     "iopub.status.idle": "2024-10-29T04:22:09.721567Z",
     "shell.execute_reply": "2024-10-29T04:22:09.719767Z",
     "shell.execute_reply.started": "2024-10-29T04:22:09.650395Z"
    },
    "trusted": true
   },
   "outputs": [],
   "source": [
    "gr1=df.iloc[1:51,0:133].copy()\n",
    "gr1_meta=df.iloc[0,0:133].values\n",
    "gr2=df.iloc[51:51+34,133:133+135].copy()\n",
    "gr2_meta=df.iloc[0,133:133+135].values\n",
    "gr3=df.iloc[85:85+37,133+135:133+135+133].copy()\n",
    "gr3_meta=df.iloc[0,133+135:133+135+133].values\n",
    "\n",
    "gr3"
   ]
  },
  {
   "cell_type": "code",
   "execution_count": null,
   "metadata": {
    "execution": {
     "iopub.execute_input": "2024-10-29T04:22:09.723597Z",
     "iopub.status.busy": "2024-10-29T04:22:09.723121Z",
     "iopub.status.idle": "2024-10-29T04:22:24.521782Z",
     "shell.execute_reply": "2024-10-29T04:22:24.519871Z",
     "shell.execute_reply.started": "2024-10-29T04:22:09.723536Z"
    },
    "scrolled": true,
    "trusted": true
   },
   "outputs": [],
   "source": [
    "!pip install umap-learn"
   ]
  },
  {
   "cell_type": "code",
   "execution_count": null,
   "metadata": {
    "execution": {
     "iopub.execute_input": "2024-10-29T04:22:24.524519Z",
     "iopub.status.busy": "2024-10-29T04:22:24.523997Z",
     "iopub.status.idle": "2024-10-29T04:22:25.315031Z",
     "shell.execute_reply": "2024-10-29T04:22:25.313759Z",
     "shell.execute_reply.started": "2024-10-29T04:22:24.524453Z"
    },
    "trusted": true
   },
   "outputs": [],
   "source": [
    "import umap\n",
    "import matplotlib.pyplot as plt\n",
    "from sklearn.preprocessing import StandardScaler\n",
    "import matplotlib.ticker as mticker\n",
    "\n",
    "c_col=[]\n",
    "for subj in gr1.dropna(axis=0).columns:\n",
    "    if df_meta.loc[subj,\"Symptom\"]==\"Control\":\n",
    "        if df_meta.loc[subj,\"Condition\"]==\"Premenopause\":\n",
    "            c_col.append(0)\n",
    "        else:\n",
    "            c_col.append(1)\n",
    "    else:\n",
    "        if df_meta.loc[subj,\"Condition\"]==\"Premenopause\":\n",
    "            c_col.append(2)\n",
    "        else:\n",
    "            c_col.append(3)\n",
    "\n",
    "reducer = umap.UMAP(random_state=5)\n",
    "scaled_data = StandardScaler().fit_transform(gr1.dropna(axis=0).T)\n",
    "embedding = reducer.fit_transform(scaled_data)\n",
    "plt.scatter(\n",
    "    embedding[:, 0],\n",
    "    embedding[:, 1],\n",
    "    c=c_col)\n",
    "plt.colorbar(ticks=[0, 1, 2, 3], format=mticker.FixedFormatter(['Ctrl Pre', 'Ctrl Post', 'Depr Pre', 'Depr Post']))\n",
    "plt.gca().set_aspect('equal', 'datalim')\n",
    "plt.title('UMAP of Group 1', fontsize=24);"
   ]
  },
  {
   "cell_type": "code",
   "execution_count": null,
   "metadata": {
    "execution": {
     "iopub.execute_input": "2024-10-29T04:22:25.316909Z",
     "iopub.status.busy": "2024-10-29T04:22:25.316482Z",
     "iopub.status.idle": "2024-10-29T04:22:26.077386Z",
     "shell.execute_reply": "2024-10-29T04:22:26.076090Z",
     "shell.execute_reply.started": "2024-10-29T04:22:25.316864Z"
    },
    "trusted": true
   },
   "outputs": [],
   "source": [
    "import umap\n",
    "import matplotlib.pyplot as plt\n",
    "from sklearn.preprocessing import StandardScaler\n",
    "import matplotlib.ticker as mticker\n",
    "\n",
    "c_col=[]\n",
    "for subj in gr2.dropna(axis=0).columns:\n",
    "    if df_meta.loc[subj,\"Symptom\"]==\"Control\":\n",
    "        if df_meta.loc[subj,\"Condition\"]==\"Premenopause\":\n",
    "            c_col.append(0)\n",
    "        else:\n",
    "            c_col.append(1)\n",
    "    else:\n",
    "        if df_meta.loc[subj,\"Condition\"]==\"Premenopause\":\n",
    "            c_col.append(2)\n",
    "        else:\n",
    "            c_col.append(3)\n",
    "\n",
    "reducer = umap.UMAP(random_state=5)\n",
    "scaled_data = StandardScaler().fit_transform(gr2.dropna(axis=0).T)\n",
    "embedding = reducer.fit_transform(scaled_data)\n",
    "plt.scatter(\n",
    "    embedding[:, 0],\n",
    "    embedding[:, 1],\n",
    "    c=c_col)\n",
    "plt.colorbar(ticks=[0, 1, 2, 3], format=mticker.FixedFormatter(['Ctrl Pre', 'Ctrl Post', 'Depr Pre', 'Depr Post']))\n",
    "plt.gca().set_aspect('equal', 'datalim')\n",
    "plt.title('UMAP of Group 2', fontsize=24);"
   ]
  },
  {
   "cell_type": "code",
   "execution_count": null,
   "metadata": {
    "execution": {
     "iopub.execute_input": "2024-10-29T04:22:26.079750Z",
     "iopub.status.busy": "2024-10-29T04:22:26.079130Z",
     "iopub.status.idle": "2024-10-29T04:22:26.864112Z",
     "shell.execute_reply": "2024-10-29T04:22:26.862708Z",
     "shell.execute_reply.started": "2024-10-29T04:22:26.079690Z"
    },
    "trusted": true
   },
   "outputs": [],
   "source": [
    "import umap\n",
    "import matplotlib.pyplot as plt\n",
    "from sklearn.preprocessing import StandardScaler\n",
    "import matplotlib.ticker as mticker\n",
    "\n",
    "c_col=[]\n",
    "for subj in gr3.dropna(axis=0).columns:\n",
    "    if df_meta.loc[subj,\"Symptom\"]==\"Control\":\n",
    "        if df_meta.loc[subj,\"Condition\"]==\"Premenopause\":\n",
    "            c_col.append(0)\n",
    "        else:\n",
    "            c_col.append(1)\n",
    "    else:\n",
    "        if df_meta.loc[subj,\"Condition\"]==\"Premenopause\":\n",
    "            c_col.append(2)\n",
    "        else:\n",
    "            c_col.append(3)\n",
    "\n",
    "reducer = umap.UMAP(random_state=5)\n",
    "scaled_data = StandardScaler().fit_transform(gr3.dropna(axis=0).T)\n",
    "embedding = reducer.fit_transform(scaled_data)\n",
    "plt.scatter(\n",
    "    embedding[:, 0],\n",
    "    embedding[:, 1],\n",
    "    c=c_col)\n",
    "plt.colorbar(ticks=[0, 1, 2, 3], format=mticker.FixedFormatter(['Ctrl Pre', 'Ctrl Post', 'Depr Pre', 'Depr Post']))\n",
    "plt.gca().set_aspect('equal', 'datalim')\n",
    "plt.title('UMAP of Group 3', fontsize=24);"
   ]
  },
  {
   "cell_type": "markdown",
   "metadata": {},
   "source": [
    "# Raw inputs\n",
    "## Pre+Post together\n",
    "### Group 1"
   ]
  },
  {
   "cell_type": "code",
   "execution_count": null,
   "metadata": {
    "execution": {
     "iopub.execute_input": "2024-10-29T04:38:06.871046Z",
     "iopub.status.busy": "2024-10-29T04:38:06.870526Z",
     "iopub.status.idle": "2024-10-29T04:38:06.914715Z",
     "shell.execute_reply": "2024-10-29T04:38:06.913334Z",
     "shell.execute_reply.started": "2024-10-29T04:38:06.870998Z"
    },
    "trusted": true
   },
   "outputs": [],
   "source": [
    "from sklearn.model_selection import train_test_split\n",
    "from sklearn.metrics import confusion_matrix\n",
    "from sklearn.metrics import accuracy_score\n",
    "from sklearn import tree\n",
    "\n",
    "y=[]\n",
    "for subj in gr1.dropna(axis=0).columns:\n",
    "    if df_meta.loc[subj,\"Symptom\"]==\"Control\":\n",
    "        y.append(0)\n",
    "    else:\n",
    "        y.append(1)\n",
    "\n",
    "model=tree.DecisionTreeClassifier(max_depth=5)\n",
    "\n",
    "X_train, X_test, y_train, y_test = train_test_split(\n",
    "    gr1.dropna(axis=0).T, y, test_size=0.20, random_state=43)\n",
    "fitted=model.fit(X_train, y_train)\n",
    "pred=fitted.predict(X_test)\n",
    "tn, fp, fn, tp = confusion_matrix(y_test, pred).ravel()\n",
    "specificity = tn / (tn+fp)\n",
    "sensitivity= tp/(tp+fn)\n",
    "print(\"Accuracy: \"+str(accuracy_score(y_test, pred)))\n",
    "print(\"Specificity: \"+str(specificity))\n",
    "print(\"Sensitivity: \"+str(sensitivity))\n",
    "confusion_matrix(y_test, pred, labels=[0,1])"
   ]
  },
  {
   "cell_type": "markdown",
   "metadata": {},
   "source": [
    "### Group 2"
   ]
  },
  {
   "cell_type": "code",
   "execution_count": null,
   "metadata": {
    "execution": {
     "iopub.execute_input": "2024-10-29T04:38:02.646928Z",
     "iopub.status.busy": "2024-10-29T04:38:02.646429Z",
     "iopub.status.idle": "2024-10-29T04:38:02.685193Z",
     "shell.execute_reply": "2024-10-29T04:38:02.683403Z",
     "shell.execute_reply.started": "2024-10-29T04:38:02.646883Z"
    },
    "trusted": true
   },
   "outputs": [],
   "source": [
    "from sklearn.model_selection import train_test_split\n",
    "from sklearn.metrics import confusion_matrix\n",
    "from sklearn.metrics import accuracy_score\n",
    "from sklearn import tree\n",
    "\n",
    "y=[]\n",
    "for subj in gr2.dropna(axis=0).columns:\n",
    "    if df_meta.loc[subj,\"Symptom\"]==\"Control\":\n",
    "        y.append(0)\n",
    "    else:\n",
    "        y.append(1)\n",
    "\n",
    "model=tree.DecisionTreeClassifier(max_depth=5)\n",
    "\n",
    "X_train, X_test, y_train, y_test = train_test_split(\n",
    "    gr2.dropna(axis=0).T, y, test_size=0.20, random_state=43)\n",
    "fitted=model.fit(X_train, y_train)\n",
    "pred=fitted.predict(X_test)\n",
    "tn, fp, fn, tp = confusion_matrix(y_test, pred).ravel()\n",
    "specificity = tn / (tn+fp)\n",
    "sensitivity= tp/(tp+fn)\n",
    "print(\"Accuracy: \"+str(accuracy_score(y_test, pred)))\n",
    "print(\"Specificity: \"+str(specificity))\n",
    "print(\"Sensitivity: \"+str(sensitivity))\n",
    "confusion_matrix(y_test, pred, labels=[0,1])"
   ]
  },
  {
   "cell_type": "markdown",
   "metadata": {},
   "source": [
    "### Group 3"
   ]
  },
  {
   "cell_type": "code",
   "execution_count": null,
   "metadata": {
    "execution": {
     "iopub.execute_input": "2024-10-29T04:37:55.889909Z",
     "iopub.status.busy": "2024-10-29T04:37:55.889402Z",
     "iopub.status.idle": "2024-10-29T04:37:55.927094Z",
     "shell.execute_reply": "2024-10-29T04:37:55.925827Z",
     "shell.execute_reply.started": "2024-10-29T04:37:55.889864Z"
    },
    "trusted": true
   },
   "outputs": [],
   "source": [
    "from sklearn.model_selection import train_test_split\n",
    "from sklearn.metrics import confusion_matrix\n",
    "from sklearn.metrics import accuracy_score\n",
    "from sklearn import tree\n",
    "\n",
    "y=[]\n",
    "for subj in gr3.dropna(axis=0).columns:\n",
    "    if df_meta.loc[subj,\"Symptom\"]==\"Control\":\n",
    "        y.append(0)\n",
    "    else:\n",
    "        y.append(1)\n",
    "\n",
    "model=tree.DecisionTreeClassifier(max_depth=5)\n",
    "\n",
    "X_train, X_test, y_train, y_test = train_test_split(\n",
    "    gr3.dropna(axis=0).T, y, test_size=0.20, random_state=43)\n",
    "fitted=model.fit(X_train, y_train)\n",
    "pred=fitted.predict(X_test)\n",
    "tn, fp, fn, tp = confusion_matrix(y_test, pred).ravel()\n",
    "specificity = tn / (tn+fp)\n",
    "sensitivity= tp/(tp+fn)\n",
    "print(\"Accuracy: \"+str(accuracy_score(y_test, pred)))\n",
    "print(\"Specificity: \"+str(specificity))\n",
    "print(\"Sensitivity: \"+str(sensitivity))\n",
    "confusion_matrix(y_test, pred, labels=[0,1])"
   ]
  },
  {
   "cell_type": "markdown",
   "metadata": {},
   "source": [
    "## Pre only\n",
    "### Group 1"
   ]
  },
  {
   "cell_type": "code",
   "execution_count": null,
   "metadata": {
    "execution": {
     "iopub.execute_input": "2024-10-29T04:49:12.311743Z",
     "iopub.status.busy": "2024-10-29T04:49:12.311266Z",
     "iopub.status.idle": "2024-10-29T04:49:12.353420Z",
     "shell.execute_reply": "2024-10-29T04:49:12.351932Z",
     "shell.execute_reply.started": "2024-10-29T04:49:12.311698Z"
    },
    "trusted": true
   },
   "outputs": [],
   "source": [
    "from sklearn.model_selection import train_test_split\n",
    "from sklearn.metrics import confusion_matrix\n",
    "from sklearn.metrics import accuracy_score\n",
    "from sklearn import tree\n",
    "\n",
    "ind=set(df_meta.loc[df_meta[\"Condition\"]=='Premenopause', \"Subject ID\"].index)\n",
    "ind=list(ind.intersection(gr1.columns))\n",
    "gr1_pre=gr1.loc[:,ind]\n",
    "\n",
    "y=[]\n",
    "for subj in gr1_pre.dropna(axis=0).columns:\n",
    "    if df_meta.loc[subj,\"Symptom\"]==\"Control\":\n",
    "        y.append(0)\n",
    "    else:\n",
    "        y.append(1)\n",
    "\n",
    "model=tree.DecisionTreeClassifier(max_depth=5)\n",
    "\n",
    "X_train, X_test, y_train, y_test = train_test_split(\n",
    "    gr1_pre.dropna(axis=0).T, y, test_size=0.20, random_state=43)\n",
    "fitted=model.fit(X_train, y_train)\n",
    "pred=fitted.predict(X_test)\n",
    "tn, fp, fn, tp = confusion_matrix(y_test, pred).ravel()\n",
    "specificity = tn / (tn+fp)\n",
    "sensitivity= tp/(tp+fn)\n",
    "print(\"Accuracy: \"+str(accuracy_score(y_test, pred)))\n",
    "print(\"Specificity: \"+str(specificity))\n",
    "print(\"Sensitivity: \"+str(sensitivity))\n",
    "confusion_matrix(y_test, pred, labels=[0,1])"
   ]
  },
  {
   "cell_type": "markdown",
   "metadata": {},
   "source": [
    "### Group 2"
   ]
  },
  {
   "cell_type": "code",
   "execution_count": null,
   "metadata": {
    "execution": {
     "iopub.execute_input": "2024-10-29T04:49:55.510930Z",
     "iopub.status.busy": "2024-10-29T04:49:55.510350Z",
     "iopub.status.idle": "2024-10-29T04:49:55.548903Z",
     "shell.execute_reply": "2024-10-29T04:49:55.547595Z",
     "shell.execute_reply.started": "2024-10-29T04:49:55.510882Z"
    },
    "trusted": true
   },
   "outputs": [],
   "source": [
    "from sklearn.model_selection import train_test_split\n",
    "from sklearn.metrics import confusion_matrix\n",
    "from sklearn.metrics import accuracy_score\n",
    "from sklearn import tree\n",
    "\n",
    "ind=set(df_meta.loc[df_meta[\"Condition\"]=='Premenopause', \"Subject ID\"].index)\n",
    "ind=list(ind.intersection(gr2.columns))\n",
    "gr2_pre=gr2.loc[:,ind]\n",
    "\n",
    "y=[]\n",
    "for subj in gr2_pre.dropna(axis=0).columns:\n",
    "    if df_meta.loc[subj,\"Symptom\"]==\"Control\":\n",
    "        y.append(0)\n",
    "    else:\n",
    "        y.append(1)\n",
    "\n",
    "model=tree.DecisionTreeClassifier(max_depth=5)\n",
    "\n",
    "X_train, X_test, y_train, y_test = train_test_split(\n",
    "    gr2_pre.dropna(axis=0).T, y, test_size=0.20, random_state=43)\n",
    "fitted=model.fit(X_train, y_train)\n",
    "pred=fitted.predict(X_test)\n",
    "tn, fp, fn, tp = confusion_matrix(y_test, pred).ravel()\n",
    "specificity = tn / (tn+fp)\n",
    "sensitivity= tp/(tp+fn)\n",
    "print(\"Accuracy: \"+str(accuracy_score(y_test, pred)))\n",
    "print(\"Specificity: \"+str(specificity))\n",
    "print(\"Sensitivity: \"+str(sensitivity))\n",
    "confusion_matrix(y_test, pred, labels=[0,1])"
   ]
  },
  {
   "cell_type": "markdown",
   "metadata": {},
   "source": [
    "### Group 3"
   ]
  },
  {
   "cell_type": "code",
   "execution_count": null,
   "metadata": {
    "execution": {
     "iopub.execute_input": "2024-10-29T04:50:31.014201Z",
     "iopub.status.busy": "2024-10-29T04:50:31.013741Z",
     "iopub.status.idle": "2024-10-29T04:50:31.053769Z",
     "shell.execute_reply": "2024-10-29T04:50:31.051952Z",
     "shell.execute_reply.started": "2024-10-29T04:50:31.014156Z"
    },
    "trusted": true
   },
   "outputs": [],
   "source": [
    "from sklearn.model_selection import train_test_split\n",
    "from sklearn.metrics import confusion_matrix\n",
    "from sklearn.metrics import accuracy_score\n",
    "from sklearn import tree\n",
    "\n",
    "ind=set(df_meta.loc[df_meta[\"Condition\"]=='Premenopause', \"Subject ID\"].index)\n",
    "ind=list(ind.intersection(gr3.columns))\n",
    "gr3_pre=gr3.loc[:,ind]\n",
    "\n",
    "y=[]\n",
    "for subj in gr3_pre.dropna(axis=0).columns:\n",
    "    if df_meta.loc[subj,\"Symptom\"]==\"Control\":\n",
    "        y.append(0)\n",
    "    else:\n",
    "        y.append(1)\n",
    "\n",
    "model=tree.DecisionTreeClassifier(max_depth=5)\n",
    "\n",
    "X_train, X_test, y_train, y_test = train_test_split(\n",
    "    gr3_pre.dropna(axis=0).T, y, test_size=0.20, random_state=43)\n",
    "fitted=model.fit(X_train, y_train)\n",
    "pred=fitted.predict(X_test)\n",
    "tn, fp, fn, tp = confusion_matrix(y_test, pred).ravel()\n",
    "specificity = tn / (tn+fp)\n",
    "sensitivity= tp/(tp+fn)\n",
    "print(\"Accuracy: \"+str(accuracy_score(y_test, pred)))\n",
    "print(\"Specificity: \"+str(specificity))\n",
    "print(\"Sensitivity: \"+str(sensitivity))\n",
    "confusion_matrix(y_test, pred, labels=[0,1])"
   ]
  },
  {
   "cell_type": "markdown",
   "metadata": {},
   "source": [
    "## Post only\n",
    "### Group 1"
   ]
  },
  {
   "cell_type": "code",
   "execution_count": null,
   "metadata": {
    "execution": {
     "iopub.execute_input": "2024-10-29T04:52:17.672088Z",
     "iopub.status.busy": "2024-10-29T04:52:17.671583Z",
     "iopub.status.idle": "2024-10-29T04:52:17.712970Z",
     "shell.execute_reply": "2024-10-29T04:52:17.711569Z",
     "shell.execute_reply.started": "2024-10-29T04:52:17.672043Z"
    },
    "trusted": true
   },
   "outputs": [],
   "source": [
    "from sklearn.model_selection import train_test_split\n",
    "from sklearn.metrics import confusion_matrix\n",
    "from sklearn.metrics import accuracy_score\n",
    "from sklearn import tree\n",
    "\n",
    "ind=set(df_meta.loc[df_meta[\"Condition\"]=='Postmenopause', \"Subject ID\"].index)\n",
    "ind=list(ind.intersection(gr1.columns))\n",
    "gr1_post=gr1.loc[:,ind]\n",
    "\n",
    "y=[]\n",
    "for subj in gr1_post.dropna(axis=0).columns:\n",
    "    if df_meta.loc[subj,\"Symptom\"]==\"Control\":\n",
    "        y.append(0)\n",
    "    else:\n",
    "        y.append(1)\n",
    "\n",
    "model=tree.DecisionTreeClassifier(max_depth=5)\n",
    "\n",
    "X_train, X_test, y_train, y_test = train_test_split(\n",
    "    gr1_post.dropna(axis=0).T, y, test_size=0.20, random_state=43)\n",
    "fitted=model.fit(X_train, y_train)\n",
    "pred=fitted.predict(X_test)\n",
    "tn, fp, fn, tp = confusion_matrix(y_test, pred).ravel()\n",
    "specificity = tn / (tn+fp)\n",
    "sensitivity= tp/(tp+fn)\n",
    "print(\"Accuracy: \"+str(accuracy_score(y_test, pred)))\n",
    "print(\"Specificity: \"+str(specificity))\n",
    "print(\"Sensitivity: \"+str(sensitivity))\n",
    "confusion_matrix(y_test, pred, labels=[0,1])"
   ]
  },
  {
   "cell_type": "markdown",
   "metadata": {},
   "source": [
    "### Group 2"
   ]
  },
  {
   "cell_type": "code",
   "execution_count": null,
   "metadata": {
    "execution": {
     "iopub.execute_input": "2024-10-29T04:52:23.878234Z",
     "iopub.status.busy": "2024-10-29T04:52:23.877776Z",
     "iopub.status.idle": "2024-10-29T04:52:23.920488Z",
     "shell.execute_reply": "2024-10-29T04:52:23.918873Z",
     "shell.execute_reply.started": "2024-10-29T04:52:23.878192Z"
    },
    "trusted": true
   },
   "outputs": [],
   "source": [
    "from sklearn.model_selection import train_test_split\n",
    "from sklearn.metrics import confusion_matrix\n",
    "from sklearn.metrics import accuracy_score\n",
    "from sklearn import tree\n",
    "\n",
    "ind=set(df_meta.loc[df_meta[\"Condition\"]=='Postmenopause', \"Subject ID\"].index)\n",
    "ind=list(ind.intersection(gr2.columns))\n",
    "gr2_post=gr2.loc[:,ind]\n",
    "\n",
    "y=[]\n",
    "for subj in gr2_post.dropna(axis=0).columns:\n",
    "    if df_meta.loc[subj,\"Symptom\"]==\"Control\":\n",
    "        y.append(0)\n",
    "    else:\n",
    "        y.append(1)\n",
    "\n",
    "model=tree.DecisionTreeClassifier(max_depth=5)\n",
    "\n",
    "X_train, X_test, y_train, y_test = train_test_split(\n",
    "    gr2_post.dropna(axis=0).T, y, test_size=0.20, random_state=43)\n",
    "fitted=model.fit(X_train, y_train)\n",
    "pred=fitted.predict(X_test)\n",
    "tn, fp, fn, tp = confusion_matrix(y_test, pred).ravel()\n",
    "specificity = tn / (tn+fp)\n",
    "sensitivity= tp/(tp+fn)\n",
    "print(\"Accuracy: \"+str(accuracy_score(y_test, pred)))\n",
    "print(\"Specificity: \"+str(specificity))\n",
    "print(\"Sensitivity: \"+str(sensitivity))\n",
    "confusion_matrix(y_test, pred, labels=[0,1])"
   ]
  },
  {
   "cell_type": "markdown",
   "metadata": {},
   "source": [
    "### Group 3"
   ]
  },
  {
   "cell_type": "code",
   "execution_count": null,
   "metadata": {
    "execution": {
     "iopub.execute_input": "2024-10-29T04:52:32.251353Z",
     "iopub.status.busy": "2024-10-29T04:52:32.250874Z",
     "iopub.status.idle": "2024-10-29T04:52:32.291816Z",
     "shell.execute_reply": "2024-10-29T04:52:32.290031Z",
     "shell.execute_reply.started": "2024-10-29T04:52:32.251307Z"
    },
    "trusted": true
   },
   "outputs": [],
   "source": [
    "from sklearn.model_selection import train_test_split\n",
    "from sklearn.metrics import confusion_matrix\n",
    "from sklearn.metrics import accuracy_score\n",
    "from sklearn import tree\n",
    "\n",
    "ind=set(df_meta.loc[df_meta[\"Condition\"]=='Postmenopause', \"Subject ID\"].index)\n",
    "ind=list(ind.intersection(gr3.columns))\n",
    "gr3_post=gr3.loc[:,ind]\n",
    "\n",
    "y=[]\n",
    "for subj in gr3_post.dropna(axis=0).columns:\n",
    "    if df_meta.loc[subj,\"Symptom\"]==\"Control\":\n",
    "        y.append(0)\n",
    "    else:\n",
    "        y.append(1)\n",
    "\n",
    "model=tree.DecisionTreeClassifier(max_depth=5)\n",
    "\n",
    "X_train, X_test, y_train, y_test = train_test_split(\n",
    "    gr3_post.dropna(axis=0).T, y, test_size=0.20, random_state=43)\n",
    "fitted=model.fit(X_train, y_train)\n",
    "pred=fitted.predict(X_test)\n",
    "tn, fp, fn, tp = confusion_matrix(y_test, pred).ravel()\n",
    "specificity = tn / (tn+fp)\n",
    "sensitivity= tp/(tp+fn)\n",
    "print(\"Accuracy: \"+str(accuracy_score(y_test, pred)))\n",
    "print(\"Specificity: \"+str(specificity))\n",
    "print(\"Sensitivity: \"+str(sensitivity))\n",
    "confusion_matrix(y_test, pred, labels=[0,1])"
   ]
  },
  {
   "cell_type": "markdown",
   "metadata": {},
   "source": [
    "# PCA inputs\n",
    "## Pre+Post together\n",
    "### Group 1"
   ]
  },
  {
   "cell_type": "code",
   "execution_count": null,
   "metadata": {
    "execution": {
     "iopub.execute_input": "2024-10-29T05:07:26.984852Z",
     "iopub.status.busy": "2024-10-29T05:07:26.984251Z",
     "iopub.status.idle": "2024-10-29T05:07:29.123867Z",
     "shell.execute_reply": "2024-10-29T05:07:29.122442Z",
     "shell.execute_reply.started": "2024-10-29T05:07:26.984793Z"
    },
    "trusted": true
   },
   "outputs": [],
   "source": [
    "import matplotlib.pyplot as plt\n",
    "from sklearn.model_selection import train_test_split\n",
    "from sklearn.metrics import accuracy_score\n",
    "from sklearn.decomposition import PCA\n",
    "from sklearn import tree\n",
    "\n",
    "y = []\n",
    "for subj in gr1.dropna(axis=0).columns:\n",
    "    if df_meta.loc[subj, \"Symptom\"] == \"Control\":\n",
    "        y.append(0)\n",
    "    else:\n",
    "        y.append(1)\n",
    "\n",
    "# Initialize a list to store accuracies\n",
    "accuracies = []\n",
    "component_range = range(1, 40)  # Test components from 1 to 20\n",
    "\n",
    "for n_components in component_range:\n",
    "    # Apply PCA with the current number of components\n",
    "    pca = PCA(n_components=n_components)\n",
    "    gr1_pca = pca.fit_transform(gr1.dropna(axis=0).T)\n",
    "    \n",
    "    # Split into train and test sets\n",
    "    X_train, X_test, y_train, y_test = train_test_split(\n",
    "        gr1_pca, y, test_size=0.20, random_state=48)\n",
    "    \n",
    "    # Fit the model\n",
    "    model = tree.DecisionTreeClassifier(max_depth=5)\n",
    "    model.fit(X_train, y_train)\n",
    "    \n",
    "    # Predict and calculate accuracy\n",
    "    pred = model.predict(X_test)\n",
    "    accuracy = accuracy_score(y_test, pred)\n",
    "    accuracies.append(accuracy)\n",
    "\n",
    "# Plot accuracy vs. number of components\n",
    "plt.plot(component_range, accuracies, marker='o')\n",
    "plt.xlabel(\"Number of PCA Components\")\n",
    "plt.ylabel(\"Accuracy\")\n",
    "plt.title(\"Accuracy vs. Number of PCA Components\")\n",
    "plt.grid(True)\n",
    "plt.show()\n"
   ]
  },
  {
   "cell_type": "code",
   "execution_count": null,
   "metadata": {
    "execution": {
     "iopub.execute_input": "2024-10-29T05:07:56.184588Z",
     "iopub.status.busy": "2024-10-29T05:07:56.183932Z",
     "iopub.status.idle": "2024-10-29T05:07:56.226926Z",
     "shell.execute_reply": "2024-10-29T05:07:56.225595Z",
     "shell.execute_reply.started": "2024-10-29T05:07:56.184529Z"
    },
    "trusted": true
   },
   "outputs": [],
   "source": [
    "from sklearn.model_selection import train_test_split\n",
    "from sklearn.metrics import confusion_matrix\n",
    "from sklearn.metrics import accuracy_score\n",
    "from sklearn.decomposition import PCA\n",
    "from sklearn import tree\n",
    "\n",
    "y=[]\n",
    "for subj in gr1.dropna(axis=0).columns:\n",
    "    if df_meta.loc[subj,\"Symptom\"]==\"Control\":\n",
    "        y.append(0)\n",
    "    else:\n",
    "        y.append(1)\n",
    "\n",
    "model=tree.DecisionTreeClassifier(max_depth=5)\n",
    "\n",
    "pca=PCA(5)\n",
    "pca.fit(gr1.dropna(axis=0))\n",
    "gr1_pca=pca.components_\n",
    "\n",
    "X_train, X_test, y_train, y_test = train_test_split(\n",
    "    gr1_pca.T, y, test_size=0.20, random_state=43)\n",
    "fitted=model.fit(X_train, y_train)\n",
    "pred=fitted.predict(X_test)\n",
    "tn, fp, fn, tp = confusion_matrix(y_test, pred).ravel()\n",
    "specificity = tn / (tn+fp)\n",
    "sensitivity= tp/(tp+fn)\n",
    "print(\"Accuracy: \"+str(accuracy_score(y_test, pred)))\n",
    "print(\"Specificity: \"+str(specificity))\n",
    "print(\"Sensitivity: \"+str(sensitivity))\n",
    "confusion_matrix(y_test, pred, labels=[0,1])"
   ]
  },
  {
   "cell_type": "markdown",
   "metadata": {},
   "source": [
    "### Group 2"
   ]
  },
  {
   "cell_type": "code",
   "execution_count": null,
   "metadata": {
    "execution": {
     "iopub.execute_input": "2024-10-29T05:17:27.334701Z",
     "iopub.status.busy": "2024-10-29T05:17:27.334106Z",
     "iopub.status.idle": "2024-10-29T05:17:27.842023Z",
     "shell.execute_reply": "2024-10-29T05:17:27.840435Z",
     "shell.execute_reply.started": "2024-10-29T05:17:27.334645Z"
    },
    "trusted": true
   },
   "outputs": [],
   "source": [
    "import matplotlib.pyplot as plt\n",
    "from sklearn.model_selection import train_test_split\n",
    "from sklearn.metrics import accuracy_score\n",
    "from sklearn.decomposition import PCA\n",
    "from sklearn import tree\n",
    "\n",
    "y = []\n",
    "for subj in gr2.dropna(axis=0).columns:\n",
    "    if df_meta.loc[subj, \"Symptom\"] == \"Control\":\n",
    "        y.append(0)\n",
    "    else:\n",
    "        y.append(1)\n",
    "\n",
    "# Initialize a list to store accuracies\n",
    "accuracies = []\n",
    "component_range = range(1, 20)  # Test components from 1 to 20\n",
    "\n",
    "for n_components in component_range:\n",
    "    # Apply PCA with the current number of components\n",
    "    pca = PCA(n_components=n_components)\n",
    "    gr2_pca = pca.fit_transform(gr2.dropna(axis=0).T)\n",
    "    \n",
    "    # Split into train and test sets\n",
    "    X_train, X_test, y_train, y_test = train_test_split(\n",
    "        gr2_pca, y, test_size=0.20, random_state=48)\n",
    "    \n",
    "    # Fit the model\n",
    "    model = tree.DecisionTreeClassifier(max_depth=5)\n",
    "    model.fit(X_train, y_train)\n",
    "    \n",
    "    # Predict and calculate accuracy\n",
    "    pred = model.predict(X_test)\n",
    "    accuracy = accuracy_score(y_test, pred)\n",
    "    accuracies.append(accuracy)\n",
    "\n",
    "# Plot accuracy vs. number of components\n",
    "plt.plot(component_range, accuracies, marker='o')\n",
    "plt.xlabel(\"Number of PCA Components\")\n",
    "plt.ylabel(\"Accuracy\")\n",
    "plt.title(\"Accuracy vs. Number of PCA Components\")\n",
    "plt.grid(True)\n",
    "plt.show()\n"
   ]
  },
  {
   "cell_type": "code",
   "execution_count": null,
   "metadata": {
    "execution": {
     "iopub.execute_input": "2024-10-29T05:09:30.426487Z",
     "iopub.status.busy": "2024-10-29T05:09:30.425921Z",
     "iopub.status.idle": "2024-10-29T05:09:30.463743Z",
     "shell.execute_reply": "2024-10-29T05:09:30.462579Z",
     "shell.execute_reply.started": "2024-10-29T05:09:30.426440Z"
    },
    "trusted": true
   },
   "outputs": [],
   "source": [
    "from sklearn.model_selection import train_test_split\n",
    "from sklearn.metrics import confusion_matrix\n",
    "from sklearn.metrics import accuracy_score\n",
    "from sklearn.decomposition import PCA\n",
    "from sklearn import tree\n",
    "\n",
    "y=[]\n",
    "for subj in gr2.dropna(axis=0).columns:\n",
    "    if df_meta.loc[subj,\"Symptom\"]==\"Control\":\n",
    "        y.append(0)\n",
    "    else:\n",
    "        y.append(1)\n",
    "\n",
    "model=tree.DecisionTreeClassifier(max_depth=5)\n",
    "\n",
    "pca=PCA(5)\n",
    "pca.fit(gr2.dropna(axis=0))\n",
    "gr2_pca=pca.components_\n",
    "\n",
    "X_train, X_test, y_train, y_test = train_test_split(\n",
    "    gr2_pca.T, y, test_size=0.20, random_state=43)\n",
    "fitted=model.fit(X_train, y_train)\n",
    "pred=fitted.predict(X_test)\n",
    "tn, fp, fn, tp = confusion_matrix(y_test, pred).ravel()\n",
    "specificity = tn / (tn+fp)\n",
    "sensitivity= tp/(tp+fn)\n",
    "print(\"Accuracy: \"+str(accuracy_score(y_test, pred)))\n",
    "print(\"Specificity: \"+str(specificity))\n",
    "print(\"Sensitivity: \"+str(sensitivity))\n",
    "confusion_matrix(y_test, pred, labels=[0,1])"
   ]
  },
  {
   "cell_type": "markdown",
   "metadata": {},
   "source": [
    "### Group 3"
   ]
  },
  {
   "cell_type": "code",
   "execution_count": null,
   "metadata": {
    "execution": {
     "iopub.execute_input": "2024-10-29T05:18:27.515119Z",
     "iopub.status.busy": "2024-10-29T05:18:27.514635Z",
     "iopub.status.idle": "2024-10-29T05:18:28.107733Z",
     "shell.execute_reply": "2024-10-29T05:18:28.106475Z",
     "shell.execute_reply.started": "2024-10-29T05:18:27.515074Z"
    },
    "trusted": true
   },
   "outputs": [],
   "source": [
    "import matplotlib.pyplot as plt\n",
    "from sklearn.model_selection import train_test_split\n",
    "from sklearn.metrics import accuracy_score\n",
    "from sklearn.decomposition import PCA\n",
    "from sklearn import tree\n",
    "\n",
    "y = []\n",
    "for subj in gr3.dropna(axis=0).columns:\n",
    "    if df_meta.loc[subj, \"Symptom\"] == \"Control\":\n",
    "        y.append(0)\n",
    "    else:\n",
    "        y.append(1)\n",
    "\n",
    "# Initialize a list to store accuracies\n",
    "accuracies = []\n",
    "component_range = range(1, 30)  # Test components from 1 to 20\n",
    "\n",
    "for n_components in component_range:\n",
    "    # Apply PCA with the current number of components\n",
    "    pca = PCA(n_components=n_components)\n",
    "    gr3_pca = pca.fit_transform(gr3.dropna(axis=0).T)\n",
    "    \n",
    "    # Split into train and test sets\n",
    "    X_train, X_test, y_train, y_test = train_test_split(\n",
    "        gr3_pca, y, test_size=0.20, random_state=41)\n",
    "    \n",
    "    # Fit the model\n",
    "    model = tree.DecisionTreeClassifier(max_depth=5)\n",
    "    model.fit(X_train, y_train)\n",
    "    \n",
    "    # Predict and calculate accuracy\n",
    "    pred = model.predict(X_test)\n",
    "    accuracy = accuracy_score(y_test, pred)\n",
    "    accuracies.append(accuracy)\n",
    "\n",
    "# Plot accuracy vs. number of components\n",
    "plt.plot(component_range, accuracies, marker='o')\n",
    "plt.xlabel(\"Number of PCA Components\")\n",
    "plt.ylabel(\"Accuracy\")\n",
    "plt.title(\"Accuracy vs. Number of PCA Components\")\n",
    "plt.grid(True)\n",
    "plt.show()\n"
   ]
  },
  {
   "cell_type": "code",
   "execution_count": null,
   "metadata": {
    "execution": {
     "iopub.execute_input": "2024-10-29T05:18:41.435930Z",
     "iopub.status.busy": "2024-10-29T05:18:41.435452Z",
     "iopub.status.idle": "2024-10-29T05:18:41.476865Z",
     "shell.execute_reply": "2024-10-29T05:18:41.475401Z",
     "shell.execute_reply.started": "2024-10-29T05:18:41.435888Z"
    },
    "trusted": true
   },
   "outputs": [],
   "source": [
    "from sklearn.model_selection import train_test_split\n",
    "from sklearn.metrics import confusion_matrix\n",
    "from sklearn.metrics import accuracy_score\n",
    "from sklearn.decomposition import PCA\n",
    "from sklearn import tree\n",
    "\n",
    "y=[]\n",
    "for subj in gr3.dropna(axis=0).columns:\n",
    "    if df_meta.loc[subj,\"Symptom\"]==\"Control\":\n",
    "        y.append(0)\n",
    "    else:\n",
    "        y.append(1)\n",
    "\n",
    "model=tree.DecisionTreeClassifier(max_depth=5)\n",
    "\n",
    "pca=PCA(4)\n",
    "pca.fit(gr3.dropna(axis=0))\n",
    "gr3_pca=pca.components_\n",
    "\n",
    "X_train, X_test, y_train, y_test = train_test_split(\n",
    "    gr3_pca.T, y, test_size=0.20, random_state=43)\n",
    "fitted=model.fit(X_train, y_train)\n",
    "pred=fitted.predict(X_test)\n",
    "tn, fp, fn, tp = confusion_matrix(y_test, pred).ravel()\n",
    "specificity = tn / (tn+fp)\n",
    "sensitivity= tp/(tp+fn)\n",
    "print(\"Accuracy: \"+str(accuracy_score(y_test, pred)))\n",
    "print(\"Specificity: \"+str(specificity))\n",
    "print(\"Sensitivity: \"+str(sensitivity))\n",
    "confusion_matrix(y_test, pred, labels=[0,1])"
   ]
  },
  {
   "cell_type": "markdown",
   "metadata": {},
   "source": [
    "## Pre only\n",
    "### Group 1"
   ]
  },
  {
   "cell_type": "code",
   "execution_count": null,
   "metadata": {
    "execution": {
     "iopub.execute_input": "2024-10-29T05:12:11.094604Z",
     "iopub.status.busy": "2024-10-29T05:12:11.093999Z",
     "iopub.status.idle": "2024-10-29T05:12:11.183955Z",
     "shell.execute_reply": "2024-10-29T05:12:11.182071Z",
     "shell.execute_reply.started": "2024-10-29T05:12:11.094545Z"
    },
    "trusted": true
   },
   "outputs": [],
   "source": [
    "from sklearn.model_selection import train_test_split\n",
    "from sklearn.metrics import confusion_matrix\n",
    "from sklearn.metrics import accuracy_score\n",
    "from sklearn import tree\n",
    "\n",
    "ind=set(df_meta.loc[df_meta[\"Condition\"]=='Premenopause', \"Subject ID\"].index)\n",
    "ind=list(ind.intersection(gr1.columns))\n",
    "gr1_pre=gr1.loc[:,ind]\n",
    "\n",
    "y=[]\n",
    "for subj in gr1_pre.dropna(axis=0).columns:\n",
    "    if df_meta.loc[subj,\"Symptom\"]==\"Control\":\n",
    "        y.append(0)\n",
    "    else:\n",
    "        y.append(1)\n",
    "\n",
    "model=tree.DecisionTreeClassifier(max_depth=5)\n",
    "\n",
    "pca=PCA(5)\n",
    "pca.fit(gr1_pre.dropna(axis=0))\n",
    "gr1_pca=pca.components_\n",
    "\n",
    "X_train, X_test, y_train, y_test = train_test_split(\n",
    "    gr1_pca.T, y, test_size=0.20, random_state=43)\n",
    "fitted=model.fit(X_train, y_train)\n",
    "pred=fitted.predict(X_test)\n",
    "tn, fp, fn, tp = confusion_matrix(y_test, pred).ravel()\n",
    "specificity = tn / (tn+fp)\n",
    "sensitivity= tp/(tp+fn)\n",
    "print(\"Accuracy: \"+str(accuracy_score(y_test, pred)))\n",
    "print(\"Specificity: \"+str(specificity))\n",
    "print(\"Sensitivity: \"+str(sensitivity))\n",
    "confusion_matrix(y_test, pred, labels=[0,1])"
   ]
  },
  {
   "cell_type": "markdown",
   "metadata": {},
   "source": [
    "### Group 2"
   ]
  },
  {
   "cell_type": "code",
   "execution_count": null,
   "metadata": {
    "execution": {
     "iopub.execute_input": "2024-10-29T05:12:46.376189Z",
     "iopub.status.busy": "2024-10-29T05:12:46.375714Z",
     "iopub.status.idle": "2024-10-29T05:12:46.412621Z",
     "shell.execute_reply": "2024-10-29T05:12:46.411002Z",
     "shell.execute_reply.started": "2024-10-29T05:12:46.376144Z"
    },
    "trusted": true
   },
   "outputs": [],
   "source": [
    "from sklearn.model_selection import train_test_split\n",
    "from sklearn.metrics import confusion_matrix\n",
    "from sklearn.metrics import accuracy_score\n",
    "from sklearn import tree\n",
    "\n",
    "ind=set(df_meta.loc[df_meta[\"Condition\"]=='Premenopause', \"Subject ID\"].index)\n",
    "ind=list(ind.intersection(gr2.columns))\n",
    "gr1_pre=gr2.loc[:,ind]\n",
    "\n",
    "y=[]\n",
    "for subj in gr2_pre.dropna(axis=0).columns:\n",
    "    if df_meta.loc[subj,\"Symptom\"]==\"Control\":\n",
    "        y.append(0)\n",
    "    else:\n",
    "        y.append(1)\n",
    "\n",
    "model=tree.DecisionTreeClassifier(max_depth=5)\n",
    "\n",
    "pca=PCA(5)\n",
    "pca.fit(gr2_pre.dropna(axis=0))\n",
    "gr2_pca=pca.components_\n",
    "\n",
    "X_train, X_test, y_train, y_test = train_test_split(\n",
    "    gr2_pca.T, y, test_size=0.20, random_state=43)\n",
    "fitted=model.fit(X_train, y_train)\n",
    "pred=fitted.predict(X_test)\n",
    "tn, fp, fn, tp = confusion_matrix(y_test, pred).ravel()\n",
    "specificity = tn / (tn+fp)\n",
    "sensitivity= tp/(tp+fn)\n",
    "print(\"Accuracy: \"+str(accuracy_score(y_test, pred)))\n",
    "print(\"Specificity: \"+str(specificity))\n",
    "print(\"Sensitivity: \"+str(sensitivity))\n",
    "confusion_matrix(y_test, pred, labels=[0,1])"
   ]
  },
  {
   "cell_type": "markdown",
   "metadata": {},
   "source": [
    "### Group 3"
   ]
  },
  {
   "cell_type": "code",
   "execution_count": null,
   "metadata": {
    "execution": {
     "iopub.execute_input": "2024-10-29T05:13:17.426486Z",
     "iopub.status.busy": "2024-10-29T05:13:17.425987Z",
     "iopub.status.idle": "2024-10-29T05:13:17.466424Z",
     "shell.execute_reply": "2024-10-29T05:13:17.464780Z",
     "shell.execute_reply.started": "2024-10-29T05:13:17.426438Z"
    },
    "trusted": true
   },
   "outputs": [],
   "source": [
    "from sklearn.model_selection import train_test_split\n",
    "from sklearn.metrics import confusion_matrix\n",
    "from sklearn.metrics import accuracy_score\n",
    "from sklearn import tree\n",
    "\n",
    "ind=set(df_meta.loc[df_meta[\"Condition\"]=='Premenopause', \"Subject ID\"].index)\n",
    "ind=list(ind.intersection(gr3.columns))\n",
    "gr3_pre=gr3.loc[:,ind]\n",
    "\n",
    "y=[]\n",
    "for subj in gr3_pre.dropna(axis=0).columns:\n",
    "    if df_meta.loc[subj,\"Symptom\"]==\"Control\":\n",
    "        y.append(0)\n",
    "    else:\n",
    "        y.append(1)\n",
    "\n",
    "model=tree.DecisionTreeClassifier(max_depth=5)\n",
    "\n",
    "pca=PCA(5)\n",
    "pca.fit(gr3_pre.dropna(axis=0))\n",
    "gr3_pca=pca.components_\n",
    "\n",
    "X_train, X_test, y_train, y_test = train_test_split(\n",
    "    gr3_pca.T, y, test_size=0.20, random_state=43)\n",
    "fitted=model.fit(X_train, y_train)\n",
    "pred=fitted.predict(X_test)\n",
    "tn, fp, fn, tp = confusion_matrix(y_test, pred).ravel()\n",
    "specificity = tn / (tn+fp)\n",
    "sensitivity= tp/(tp+fn)\n",
    "print(\"Accuracy: \"+str(accuracy_score(y_test, pred)))\n",
    "print(\"Specificity: \"+str(specificity))\n",
    "print(\"Sensitivity: \"+str(sensitivity))\n",
    "confusion_matrix(y_test, pred, labels=[0,1])"
   ]
  },
  {
   "cell_type": "markdown",
   "metadata": {},
   "source": [
    "## Post only\n",
    "### Group 1"
   ]
  },
  {
   "cell_type": "code",
   "execution_count": null,
   "metadata": {
    "execution": {
     "iopub.execute_input": "2024-10-29T05:14:42.220950Z",
     "iopub.status.busy": "2024-10-29T05:14:42.220453Z",
     "iopub.status.idle": "2024-10-29T05:14:42.264296Z",
     "shell.execute_reply": "2024-10-29T05:14:42.263197Z",
     "shell.execute_reply.started": "2024-10-29T05:14:42.220907Z"
    },
    "trusted": true
   },
   "outputs": [],
   "source": [
    "from sklearn.model_selection import train_test_split\n",
    "from sklearn.metrics import confusion_matrix\n",
    "from sklearn.metrics import accuracy_score\n",
    "from sklearn import tree\n",
    "\n",
    "ind=set(df_meta.loc[df_meta[\"Condition\"]=='Postmenopause', \"Subject ID\"].index)\n",
    "ind=list(ind.intersection(gr1.columns))\n",
    "gr1_post=gr1.loc[:,ind]\n",
    "\n",
    "y=[]\n",
    "for subj in gr1_post.dropna(axis=0).columns:\n",
    "    if df_meta.loc[subj,\"Symptom\"]==\"Control\":\n",
    "        y.append(0)\n",
    "    else:\n",
    "        y.append(1)\n",
    "\n",
    "model=tree.DecisionTreeClassifier(max_depth=5)\n",
    "\n",
    "pca=PCA(5)\n",
    "pca.fit(gr1_post.dropna(axis=0))\n",
    "gr1_pca=pca.components_\n",
    "\n",
    "X_train, X_test, y_train, y_test = train_test_split(\n",
    "    gr1_pca.T, y, test_size=0.20, random_state=43)\n",
    "fitted=model.fit(X_train, y_train)\n",
    "pred=fitted.predict(X_test)\n",
    "tn, fp, fn, tp = confusion_matrix(y_test, pred).ravel()\n",
    "specificity = tn / (tn+fp)\n",
    "sensitivity= tp/(tp+fn)\n",
    "print(\"Accuracy: \"+str(accuracy_score(y_test, pred)))\n",
    "print(\"Specificity: \"+str(specificity))\n",
    "print(\"Sensitivity: \"+str(sensitivity))\n",
    "confusion_matrix(y_test, pred, labels=[0,1])"
   ]
  },
  {
   "cell_type": "markdown",
   "metadata": {},
   "source": [
    "### Group 2"
   ]
  },
  {
   "cell_type": "code",
   "execution_count": null,
   "metadata": {
    "execution": {
     "iopub.execute_input": "2024-10-29T05:15:10.458207Z",
     "iopub.status.busy": "2024-10-29T05:15:10.456926Z",
     "iopub.status.idle": "2024-10-29T05:15:10.496906Z",
     "shell.execute_reply": "2024-10-29T05:15:10.495438Z",
     "shell.execute_reply.started": "2024-10-29T05:15:10.458152Z"
    },
    "trusted": true
   },
   "outputs": [],
   "source": [
    "from sklearn.model_selection import train_test_split\n",
    "from sklearn.metrics import confusion_matrix\n",
    "from sklearn.metrics import accuracy_score\n",
    "from sklearn import tree\n",
    "\n",
    "ind=set(df_meta.loc[df_meta[\"Condition\"]=='Postmenopause', \"Subject ID\"].index)\n",
    "ind=list(ind.intersection(gr2.columns))\n",
    "gr2_post=gr2.loc[:,ind]\n",
    "\n",
    "y=[]\n",
    "for subj in gr2_post.dropna(axis=0).columns:\n",
    "    if df_meta.loc[subj,\"Symptom\"]==\"Control\":\n",
    "        y.append(0)\n",
    "    else:\n",
    "        y.append(1)\n",
    "\n",
    "model=tree.DecisionTreeClassifier(max_depth=5)\n",
    "\n",
    "pca=PCA(5)\n",
    "pca.fit(gr2_post.dropna(axis=0))\n",
    "gr2_pca=pca.components_\n",
    "\n",
    "X_train, X_test, y_train, y_test = train_test_split(\n",
    "    gr2_pca.T, y, test_size=0.20, random_state=43)\n",
    "fitted=model.fit(X_train, y_train)\n",
    "pred=fitted.predict(X_test)\n",
    "tn, fp, fn, tp = confusion_matrix(y_test, pred).ravel()\n",
    "specificity = tn / (tn+fp)\n",
    "sensitivity= tp/(tp+fn)\n",
    "print(\"Accuracy: \"+str(accuracy_score(y_test, pred)))\n",
    "print(\"Specificity: \"+str(specificity))\n",
    "print(\"Sensitivity: \"+str(sensitivity))\n",
    "confusion_matrix(y_test, pred, labels=[0,1])"
   ]
  },
  {
   "cell_type": "markdown",
   "metadata": {},
   "source": [
    "### Group 3"
   ]
  },
  {
   "cell_type": "code",
   "execution_count": null,
   "metadata": {
    "execution": {
     "iopub.execute_input": "2024-10-29T05:15:42.470866Z",
     "iopub.status.busy": "2024-10-29T05:15:42.470376Z",
     "iopub.status.idle": "2024-10-29T05:15:42.511107Z",
     "shell.execute_reply": "2024-10-29T05:15:42.509718Z",
     "shell.execute_reply.started": "2024-10-29T05:15:42.470822Z"
    },
    "trusted": true
   },
   "outputs": [],
   "source": [
    "from sklearn.model_selection import train_test_split\n",
    "from sklearn.metrics import confusion_matrix\n",
    "from sklearn.metrics import accuracy_score\n",
    "from sklearn import tree\n",
    "\n",
    "ind=set(df_meta.loc[df_meta[\"Condition\"]=='Postmenopause', \"Subject ID\"].index)\n",
    "ind=list(ind.intersection(gr3.columns))\n",
    "gr3_post=gr3.loc[:,ind]\n",
    "\n",
    "y=[]\n",
    "for subj in gr3_post.dropna(axis=0).columns:\n",
    "    if df_meta.loc[subj,\"Symptom\"]==\"Control\":\n",
    "        y.append(0)\n",
    "    else:\n",
    "        y.append(1)\n",
    "\n",
    "model=tree.DecisionTreeClassifier(max_depth=5)\n",
    "\n",
    "pca=PCA(5)\n",
    "pca.fit(gr3_post.dropna(axis=0))\n",
    "gr3_pca=pca.components_\n",
    "\n",
    "X_train, X_test, y_train, y_test = train_test_split(\n",
    "    gr3_pca.T, y, test_size=0.20, random_state=43)\n",
    "fitted=model.fit(X_train, y_train)\n",
    "pred=fitted.predict(X_test)\n",
    "tn, fp, fn, tp = confusion_matrix(y_test, pred).ravel()\n",
    "specificity = tn / (tn+fp)\n",
    "sensitivity= tp/(tp+fn)\n",
    "print(\"Accuracy: \"+str(accuracy_score(y_test, pred)))\n",
    "print(\"Specificity: \"+str(specificity))\n",
    "print(\"Sensitivity: \"+str(sensitivity))\n",
    "confusion_matrix(y_test, pred, labels=[0,1])"
   ]
  },
  {
   "cell_type": "code",
   "execution_count": null,
   "metadata": {
    "execution": {
     "iopub.execute_input": "2024-10-29T04:22:26.866912Z",
     "iopub.status.busy": "2024-10-29T04:22:26.866173Z",
     "iopub.status.idle": "2024-10-29T04:22:26.880524Z",
     "shell.execute_reply": "2024-10-29T04:22:26.879158Z",
     "shell.execute_reply.started": "2024-10-29T04:22:26.866846Z"
    },
    "trusted": true
   },
   "outputs": [],
   "source": [
    "from sklearn.tree import _tree\n",
    "\n",
    "def tree_to_code(tree, feature_names):\n",
    "    tree_ = tree.tree_\n",
    "    feature_name = [\n",
    "        feature_names[i] if i != _tree.TREE_UNDEFINED else \"undefined!\"\n",
    "        for i in tree_.feature\n",
    "    ]\n",
    "    print (\"def tree({}):\".format(\", \".join(feature_names)))\n",
    "\n",
    "    def recurse(node, depth):\n",
    "        indent = \"  \" * depth\n",
    "        if tree_.feature[node] != _tree.TREE_UNDEFINED:\n",
    "            name = feature_name[node]\n",
    "            threshold = tree_.threshold[node]\n",
    "            print (\"{}if {} <= {}:\".format(indent, name, threshold))\n",
    "            recurse(tree_.children_left[node], depth + 1)\n",
    "            print (\"{}else:  # if {} > {}\".format(indent, name, threshold))\n",
    "            recurse(tree_.children_right[node], depth + 1)\n",
    "        else:\n",
    "            print (\"{}return {}\".format(indent, np.argmax(tree_.value[node])))\n",
    "\n",
    "    recurse(0, 1)"
   ]
  },
  {
   "cell_type": "code",
   "execution_count": null,
   "metadata": {
    "execution": {
     "iopub.status.busy": "2024-10-29T04:22:26.981077Z",
     "iopub.status.idle": "2024-10-29T04:22:26.981636Z",
     "shell.execute_reply": "2024-10-29T04:22:26.981378Z",
     "shell.execute_reply.started": "2024-10-29T04:22:26.981354Z"
    },
    "trusted": true
   },
   "outputs": [],
   "source": [
    "from sklearn.model_selection import train_test_split\n",
    "from sklearn.metrics import confusion_matrix\n",
    "from sklearn.metrics import accuracy_score\n",
    "from sklearn import ensemble\n",
    "\n",
    "model=ensemble.RandomForestClassifier()\n",
    "\n",
    "X_train, X_test, y_train, y_test = train_test_split(\n",
    "    scaled_data, supp2[\"Cycle Phase\"], test_size=0.20, random_state=43)\n",
    "fitted=model.fit(X_train, y_train)\n",
    "pred=fitted.predict(X_test)\n",
    "#tn, fp, fn, tp = confusion_matrix(y_test, pred).ravel()\n",
    "#specificity = tn / (tn+fp)\n",
    "#sensitivity= tp/(tp+fn)\n",
    "print(\"Accuracy: \"+str(accuracy_score(y_test, pred)))\n",
    "#print(\"Specificity: \"+str(specificity))\n",
    "#print(\"Sensitivity: \"+str(sensitivity))\n",
    "confusion_matrix(y_test, pred, labels=[1,2,3])"
   ]
  }
 ],
 "metadata": {
  "kaggle": {
   "accelerator": "none",
   "dataSources": [
    {
     "datasetId": 5955113,
     "sourceId": 9731114,
     "sourceType": "datasetVersion"
    },
    {
     "datasetId": 5961389,
     "sourceId": 9739526,
     "sourceType": "datasetVersion"
    }
   ],
   "dockerImageVersionId": 30786,
   "isGpuEnabled": false,
   "isInternetEnabled": true,
   "language": "python",
   "sourceType": "notebook"
  },
  "kernelspec": {
   "display_name": "Python 3",
   "language": "python",
   "name": "python3"
  },
  "language_info": {
   "codemirror_mode": {
    "name": "ipython",
    "version": 3
   },
   "file_extension": ".py",
   "mimetype": "text/x-python",
   "name": "python",
   "nbconvert_exporter": "python",
   "pygments_lexer": "ipython3",
   "version": "3.10.14"
  }
 },
 "nbformat": 4,
 "nbformat_minor": 4
}
